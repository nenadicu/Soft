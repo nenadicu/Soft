{
 "cells": [
  {
   "cell_type": "markdown",
   "id": "282e6ede",
   "metadata": {},
   "source": [
    "# Prepoznavanje grbova klubova u Premijer Ligi"
   ]
  },
  {
   "cell_type": "code",
   "execution_count": null,
   "id": "de8d2777",
   "metadata": {},
   "outputs": [],
   "source": [
    "#Importi potrebni za rad programa\n",
    "import os\n",
    "import numpy as np\n",
    "import cv2 # OpenCV\n",
    "import time\n",
    "from sklearn.svm import SVC # SVM klasifikator\n",
    "from sklearn.ensemble import RandomForestClassifier\n",
    "from sklearn.metrics import accuracy_score\n",
    "from sklearn.model_selection import train_test_split\n",
    "from sklearn.neighbors import KNeighborsClassifier # KNN\n",
    "from sklearn.model_selection import GridSearchCV\n",
    "import matplotlib.pyplot as plt\n",
    "import matplotlib.patches as patches\n",
    "%matplotlib inline"
   ]
  },
  {
   "cell_type": "code",
   "execution_count": null,
   "id": "18bc0830",
   "metadata": {},
   "outputs": [],
   "source": [
    "#Ucitavanje slike i konvertovanje u u sivo\n",
    "def load_image(path):\n",
    "    return cv2.cvtColor(cv2.imread(path), cv2.COLOR_BGR2GRAY)\n",
    "\n",
    "def display_image(image):\n",
    "    plt.imshow(image, 'gray')"
   ]
  },
  {
   "cell_type": "code",
   "execution_count": null,
   "id": "8fa73cdb",
   "metadata": {},
   "outputs": [],
   "source": [
    "iche = load_image('epl-logos-big/Train/Chelsea (532).png')\n",
    "display_image(iche)"
   ]
  },
  {
   "cell_type": "code",
   "execution_count": null,
   "id": "1f023ac0",
   "metadata": {},
   "outputs": [],
   "source": [
    "#Ucitavanje trening i test skupa i raspodela po klubovima\n",
    "start = time.time()\n",
    "train_dir = 'epl-logos-big/Train/'\n",
    "test_dir = 'epl-logos-big/Test2/'\n",
    "\n",
    "che_imgs = []\n",
    "ars_imgs = []\n",
    "asv_imgs = []\n",
    "brf_imgs = []\n",
    "lee_imgs = []\n",
    "lei_imgs = []\n",
    "whu_imgs = []\n",
    "mci_imgs = []\n",
    "mun_imgs = []\n",
    "tot_imgs = []\n",
    "\n",
    "for img_name in os.listdir(train_dir):\n",
    "    img_path = os.path.join(train_dir, img_name)\n",
    "    img = load_image(img_path)\n",
    "    if 'Chelsea' in img_name:\n",
    "        che_imgs.append(img)\n",
    "    elif 'Arsenal' in img_name:\n",
    "        ars_imgs.append(img)\n",
    "    elif 'AstonVilla' in img_name:\n",
    "        asv_imgs.append(img)\n",
    "    elif 'Brentford' in img_name:\n",
    "        brf_imgs.append(img)\n",
    "    elif 'Leeds' in img_name:\n",
    "        lee_imgs.append(img)\n",
    "    elif 'Leicester' in img_name:\n",
    "        lei_imgs.append(img)\n",
    "    elif 'Westham' in img_name:\n",
    "        whu_imgs.append(img)\n",
    "    elif 'ManchesterCity' in img_name:\n",
    "        mci_imgs.append(img)\n",
    "    elif 'ManchesterUnited' in img_name:\n",
    "        mun_imgs.append(img)\n",
    "    elif 'Spurs' in img_name:\n",
    "        tot_imgs.append(img)\n",
    "        \n",
    "print(\"Chelsea images #: \", len(che_imgs))\n",
    "print(\"Arsenal images #: \", len(ars_imgs))\n",
    "print(\"Aston Villa images #: \", len(asv_imgs))\n",
    "print(\"Brentford images #: \", len(brf_imgs))\n",
    "print(\"Leeds images #: \", len(lee_imgs))\n",
    "print(\"Leicester images #: \", len(lei_imgs))\n",
    "print(\"City images #: \", len(mci_imgs))\n",
    "print(\"United images #: \", len(mun_imgs))\n",
    "print(\"Spurs images #: \", len(tot_imgs))\n",
    "print(\"Westham images #: \", len(whu_imgs))"
   ]
  },
  {
   "cell_type": "code",
   "execution_count": null,
   "id": "1cd966ba",
   "metadata": {},
   "outputs": [],
   "source": [
    "che_features = []\n",
    "asv_features = []\n",
    "ars_features = []\n",
    "bre_features = []\n",
    "lee_features = []\n",
    "lei_features = []\n",
    "whu_features = []\n",
    "mci_features = []\n",
    "mun_features = []\n",
    "tot_features = []\n",
    "labels = []\n",
    "\n",
    "nbins = 9 # broj binova\n",
    "cell_size = (16, 16) # broj piksela po celiji\n",
    "block_size = (4,4) # broj celija po bloku\n",
    "\n",
    "hog = cv2.HOGDescriptor(_winSize=(img.shape[1] // cell_size[1] * cell_size[1], \n",
    "                                  img.shape[0] // cell_size[0] * cell_size[0]),\n",
    "                        _blockSize=(block_size[1] * cell_size[1],\n",
    "                                    block_size[0] * cell_size[0]),\n",
    "                        _blockStride=(cell_size[1], cell_size[0]),\n",
    "                        _cellSize=(cell_size[1], cell_size[0]),\n",
    "                        _nbins=nbins)\n",
    "\n",
    "for img in che_imgs:\n",
    "    che_features.append(hog.compute(img))\n",
    "    labels.append(1)\n",
    "\n",
    "for img in asv_imgs:\n",
    "    asv_features.append(hog.compute(img))\n",
    "    labels.append(2)\n",
    "    \n",
    "for img in brf_imgs:\n",
    "    bre_features.append(hog.compute(img))\n",
    "    labels.append(3)\n",
    "\n",
    "for img in ars_imgs:\n",
    "    ars_features.append(hog.compute(img))\n",
    "    labels.append(4)\n",
    "    \n",
    "for img in lee_imgs:\n",
    "    lee_features.append(hog.compute(img))\n",
    "    labels.append(5)\n",
    "\n",
    "for img in lei_imgs:\n",
    "    lei_features.append(hog.compute(img))\n",
    "    labels.append(6)\n",
    "    \n",
    "for img in whu_imgs:\n",
    "    whu_features.append(hog.compute(img))\n",
    "    labels.append(7)\n",
    "\n",
    "for img in mci_imgs:\n",
    "    mci_features.append(hog.compute(img))\n",
    "    labels.append(8)\n",
    "\n",
    "for img in mun_imgs:\n",
    "    mun_features.append(hog.compute(img))\n",
    "    labels.append(9)\n",
    "\n",
    "for img in tot_imgs:\n",
    "    tot_features.append(hog.compute(img))\n",
    "    labels.append(10)\n",
    "\n",
    "\n",
    "che_features = np.array(che_features)\n",
    "asv_features = np.array(asv_features)\n",
    "bre_features = np.array(bre_features)\n",
    "lee_features = np.array(lee_features)\n",
    "ars_features = np.array(ars_features)\n",
    "lei_features = np.array(lei_features)\n",
    "whu_features = np.array(whu_features)\n",
    "mci_features = np.array(mci_features)\n",
    "mun_features = np.array(mun_features)\n",
    "tot_features = np.array(tot_features)\n",
    "\n",
    "\n",
    "print(\"Chelsea: \",che_features.shape)\n",
    "print(\"Aston Villa\" ,asv_features.shape)\n",
    "print(\"Arsenal: \", ars_features.shape)\n",
    "print(\"Brentford : \", bre_features.shape)\n",
    "print(\"Leeds : \", lee_features.shape)\n",
    "print(\"Leicester: \", lei_features.shape)\n",
    "print(\"City : \", mci_features.shape)\n",
    "print(\"United : \", mun_features.shape)\n",
    "print(\"Spurs: \", tot_features.shape)\n",
    "print(\"Westham : \", whu_features.shape)\n",
    "\n",
    "x = np.vstack((che_features, asv_features,bre_features,lee_features, ars_features,lei_features,whu_features,mci_features,mun_features,tot_features))\n",
    "y = np.array(labels)\n"
   ]
  },
  {
   "cell_type": "code",
   "execution_count": null,
   "id": "c04483c3",
   "metadata": {},
   "outputs": [],
   "source": [
    "x_train, x_test, y_train, y_test = train_test_split(x, y, test_size=0.2, random_state=42)\n",
    "print('Train shape: ', x_train.shape, y_train.shape)\n",
    "print('Test shape: ', x_test.shape, y_test.shape)"
   ]
  },
  {
   "cell_type": "code",
   "execution_count": null,
   "id": "7d486bd4",
   "metadata": {},
   "outputs": [],
   "source": [
    "def reshape_data(input_data):\n",
    "    nsamples, nx, ny = input_data.shape\n",
    "    return input_data.reshape((nsamples, nx*ny))\n",
    "\n",
    "x_train = reshape_data(x_train)\n",
    "x_test = reshape_data(x_test)"
   ]
  },
  {
   "cell_type": "code",
   "execution_count": null,
   "id": "595a83a5",
   "metadata": {},
   "outputs": [],
   "source": [
    "print('Train shape: ', x_train.shape, y_train.shape)\n",
    "print('Test shape: ', x_test.shape, y_test.shape)"
   ]
  },
  {
   "cell_type": "code",
   "execution_count": null,
   "id": "8d87ecae",
   "metadata": {},
   "outputs": [],
   "source": [
    "#GRIDSEARCH\n",
    "\n",
    "#param_grid = {'C': [0.1, 1, 10, 100, 1000],\n",
    "#              'gamma': [1, 0.1],\n",
    "#              'kernel': ['rbf']}\n",
    " \n",
    "#grid = GridSearchCV(SVC(), param_grid, refit = True, verbose = 3)\n",
    " \n",
    "# fitting the model for grid search\n",
    "#grid.fit(x_train, y_train)\n",
    "\n",
    "#print(grid.best_params_)\n",
    " \n",
    "# print how our model looks after hyper-parameter tuning\n",
    "#print(grid.best_estimator_)"
   ]
  },
  {
   "cell_type": "code",
   "execution_count": null,
   "id": "c002c3ad",
   "metadata": {},
   "outputs": [],
   "source": [
    "#SVM\n",
    "clf_svm = SVC(kernel='rbf',C=100, gamma=0.1, probability=True) \n",
    "clf_svm.fit(x_train, y_train)\n",
    "y_train_pred = clf_svm.predict(x_train)\n",
    "y_test_pred = clf_svm.predict(x_test)\n",
    "print(\"Train accuracy: \", accuracy_score(y_train, y_train_pred))\n",
    "print(\"Validation accuracy: \", accuracy_score(y_test, y_test_pred))"
   ]
  },
  {
   "cell_type": "code",
   "execution_count": null,
   "id": "b75f3bc1",
   "metadata": {},
   "outputs": [],
   "source": [
    "#Random forest classifier\n",
    "#clf_rfc = RandomForestClassifier(n_estimators= 200, max_depth=10, random_state=0)\n",
    "#clf_rfc.fit(x_train,y_train)\n",
    "#y_train_pred = clf_rfc.predict(x_train)\n",
    "#y_test_pred = clf_rfc.predict(x_test)\n",
    "#print(\"Train accuracy: \", accuracy_score(y_train, y_train_pred))\n",
    "#print(\"Validation accuracy: \", accuracy_score(y_test, y_test_pred))"
   ]
  },
  {
   "cell_type": "code",
   "execution_count": null,
   "id": "1d72ae5d",
   "metadata": {},
   "outputs": [],
   "source": [
    "itest = load_image('epl-logos-big/Test2/Chelsea (6).jpg')\n",
    "itest2 = load_image('epl-logos-big/Test2/Westham (4).jpg')\n",
    "itest3 = load_image('epl-logos-big/Test2/ManchesterUnited (6).jpg')\n",
    "itest4 = load_image('epl-logos-big/Test2/Leeds (1).jpg')\n",
    "itest5 = load_image('epl-logos-big/Test2/AstonVilla (7).jpg')\n"
   ]
  },
  {
   "cell_type": "code",
   "execution_count": null,
   "id": "6001d281",
   "metadata": {},
   "outputs": [],
   "source": [
    "def classify_window(window):\n",
    "    features = hog.compute(window).reshape(1, -1)\n",
    "    return clf_rfc.predict_proba(features)[0][1]\n"
   ]
  },
  {
   "cell_type": "code",
   "execution_count": null,
   "id": "419d8446",
   "metadata": {},
   "outputs": [],
   "source": [
    "def process_image(image, step_size, window_size=(100, 100)):\n",
    "    best_score = 0\n",
    "    best_window = None\n",
    "    windows = []\n",
    "    for y in range(0, image.shape[0], step_size):\n",
    "        for x in range(0, image.shape[1], step_size):\n",
    "            this_window = (y, x) # zbog formata rezultata\n",
    "            window = image[y:y+window_size[1], x:x+window_size[0]]\n",
    "            if window.shape == (window_size[1], window_size[0]):\n",
    "                score = classify_window(window)\n",
    "                if score > best_score:\n",
    "                    best_score = score\n",
    "                    best_window = this_window\n",
    "    return best_score, best_window"
   ]
  },
  {
   "cell_type": "code",
   "execution_count": null,
   "id": "6575b1ff",
   "metadata": {},
   "outputs": [],
   "source": [
    "def jaccard_index(true_box, predicted_box):\n",
    "    y_a = max(true_box[0], predicted_box[0])\n",
    "    x_a = max(true_box[1], predicted_box[1])\n",
    "    y_b = min(true_box[2], predicted_box[2])\n",
    "    x_b = min(true_box[3], predicted_box[3])\n",
    "    \n",
    "    inter_area = max(0, x_b - x_a + 1) * max(0, y_b - y_a + 1)\n",
    "    \n",
    "    true_area = (true_box[3] - true_box[1] + 1) * (true_box[2] - true_box[0] + 1)\n",
    "\n",
    "    pred_area = (predicted_box[3] - predicted_box[1] + 1) * (predicted_box[2] - predicted_box[0] + 1)\n",
    "    \n",
    "    iou = inter_area / float(true_area + pred_area - inter_area)\n",
    "    \n",
    "    return max(iou, 0)\n"
   ]
  },
  {
   "cell_type": "code",
   "execution_count": null,
   "id": "a9f46229",
   "metadata": {},
   "outputs": [],
   "source": [
    "img_scores = []\n",
    "\n",
    "def imgs_by_team():\n",
    "    for img_name in os.listdir(test_dir):\n",
    "        img_path = os.path.join(test_dir, img_name)            \n",
    "        img = load_image(img_path)    \n",
    "        score, score_window = process_image(img, step_size=30) \n",
    "        print(\"{}:{}:{}\".format(img_path,score,score_window))\n",
    "        img_scores.append(score)\n"
   ]
  },
  {
   "cell_type": "code",
   "execution_count": null,
   "id": "15aa2c32",
   "metadata": {},
   "outputs": [],
   "source": [
    "imgs_by_team()\n",
    "score, score_window = process_image(itest, step_size=30)\n"
   ]
  },
  {
   "cell_type": "code",
   "execution_count": null,
   "id": "e644b879",
   "metadata": {},
   "outputs": [],
   "source": [
    "# Deo koda koji je namenjen za tesitranje pojedinacog kluba\n",
    "#img_scores = []\n",
    "#che_test_imgs = []\n",
    "#for img_name in os.listdir(test_dir):\n",
    "#    img_path = os.path.join(test_dir, img_name)\n",
    "#    if 'Chelsea' in img_name:    \n",
    "#        img = load_image(img_path)\n",
    "#        score, score_window = process_image(img, step_size=30)\n",
    "#        print(\"{}:{}\".format(img_path,score))\n",
    "#        img_scores.append(score)"
   ]
  },
  {
   "cell_type": "code",
   "execution_count": null,
   "id": "6464db81",
   "metadata": {},
   "outputs": [],
   "source": [
    "#Provera testne slike\n",
    "\n",
    "cv2.rectangle(itest,(700,500),(600,600),(0,0,255),3)\n",
    "display_image(itest)\n",
    "\n"
   ]
  },
  {
   "cell_type": "code",
   "execution_count": null,
   "id": "c9daf977",
   "metadata": {},
   "outputs": [],
   "source": [
    "cv2.rectangle(itest2,(400,200),(500,300),(0,0,255),3)\n",
    "display_image(itest2)"
   ]
  },
  {
   "cell_type": "code",
   "execution_count": null,
   "id": "6dfe7cea",
   "metadata": {},
   "outputs": [],
   "source": [
    "cv2.rectangle(itest3,(400,100),(500,200),(0,0,255),3)\n",
    "display_image(itest3)"
   ]
  },
  {
   "cell_type": "code",
   "execution_count": null,
   "id": "f430203d",
   "metadata": {},
   "outputs": [],
   "source": [
    "cv2.rectangle(itest4,(780,540),(880,640),(0,0,255),3)\n",
    "display_image(itest4)"
   ]
  },
  {
   "cell_type": "code",
   "execution_count": null,
   "id": "1573e043",
   "metadata": {},
   "outputs": [],
   "source": [
    "cv2.rectangle(itest5,(550,350),(650,450),(0,0,255),3)\n",
    "display_image(itest5)"
   ]
  },
  {
   "cell_type": "code",
   "execution_count": null,
   "id": "25195362",
   "metadata": {},
   "outputs": [],
   "source": []
  },
  {
   "cell_type": "code",
   "execution_count": null,
   "id": "1fdb95f3",
   "metadata": {},
   "outputs": [],
   "source": [
    "#racunanje ukupnog procenta i vreme izvrsavanja\n",
    "sum = 0\n",
    "for avg in img_scores:\n",
    "    sum += avg\n",
    "    avg_score = sum / 100\n",
    "    \n",
    "print(avg_score)\n",
    "end = time.time()\n",
    "print(end - start)"
   ]
  },
  {
   "cell_type": "code",
   "execution_count": null,
   "id": "5444f699",
   "metadata": {},
   "outputs": [],
   "source": []
  },
  {
   "cell_type": "code",
   "execution_count": null,
   "id": "a6ecb79c",
   "metadata": {},
   "outputs": [],
   "source": []
  }
 ],
 "metadata": {
  "kernelspec": {
   "display_name": "Python 3",
   "language": "python",
   "name": "python3"
  },
  "language_info": {
   "codemirror_mode": {
    "name": "ipython",
    "version": 3
   },
   "file_extension": ".py",
   "mimetype": "text/x-python",
   "name": "python",
   "nbconvert_exporter": "python",
   "pygments_lexer": "ipython3",
   "version": "3.8.8"
  }
 },
 "nbformat": 4,
 "nbformat_minor": 5
}
